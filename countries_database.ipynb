{
 "cells": [
  {
   "cell_type": "code",
   "execution_count": 1,
   "id": "196a5678",
   "metadata": {
    "ExecuteTime": {
     "end_time": "2024-01-18T08:37:05.977109Z",
     "start_time": "2024-01-18T08:37:05.488536Z"
    }
   },
   "outputs": [],
   "source": [
    "# import libraries\n",
    "\n",
    "import pandas as pd \n",
    "from sqlalchemy import engine\n",
    "import os"
   ]
  },
  {
   "cell_type": "code",
   "execution_count": 2,
   "id": "142781d0",
   "metadata": {
    "ExecuteTime": {
     "end_time": "2024-01-18T08:37:05.985352Z",
     "start_time": "2024-01-18T08:37:05.978218Z"
    }
   },
   "outputs": [],
   "source": [
    "engine = 'postgresql://kingori:@localhost:5432/countries'"
   ]
  },
  {
   "cell_type": "code",
   "execution_count": null,
   "id": "77d1c895",
   "metadata": {},
   "outputs": [],
   "source": [
    "# isolate c"
   ]
  },
  {
   "cell_type": "code",
   "execution_count": 12,
   "id": "de0ba39e",
   "metadata": {
    "ExecuteTime": {
     "end_time": "2024-01-18T08:44:23.688054Z",
     "start_time": "2024-01-18T08:44:23.683169Z"
    }
   },
   "outputs": [
    {
     "name": "stdout",
     "output_type": "stream",
     "text": [
      "['Country full.csv', 'Country$.csv', 'Continent.csv']\n"
     ]
    }
   ],
   "source": [
    "files = os.listdir(os.getcwd())\n",
    "csv_files = []\n",
    "\n",
    "for file in files:\n",
    "    if file.endswith('.csv'):\n",
    "        csv_files.append(file)\n",
    "print(csv_files)    "
   ]
  },
  {
   "cell_type": "code",
   "execution_count": 5,
   "id": "7e8a59af",
   "metadata": {
    "ExecuteTime": {
     "end_time": "2024-01-18T08:38:28.480400Z",
     "start_time": "2024-01-18T08:38:28.473441Z"
    }
   },
   "outputs": [
    {
     "data": {
      "text/plain": [
       "'/Users/kingori/Documents/GitHub/Load_PostgresDatabase_using_python'"
      ]
     },
     "execution_count": 5,
     "metadata": {},
     "output_type": "execute_result"
    }
   ],
   "source": [
    "os.getcwd()"
   ]
  },
  {
   "cell_type": "code",
   "execution_count": 7,
   "id": "d28f77de",
   "metadata": {
    "ExecuteTime": {
     "end_time": "2024-01-18T08:40:05.629587Z",
     "start_time": "2024-01-18T08:40:05.591125Z"
    }
   },
   "outputs": [
    {
     "name": "stdout",
     "output_type": "stream",
     "text": [
      "Continent.csv\n",
      "Country full.csv\n",
      "Country$.csv\n",
      "README.md\n",
      "countries_database.ipynb\n"
     ]
    },
    {
     "data": {
      "text/plain": [
       "0"
      ]
     },
     "execution_count": 7,
     "metadata": {},
     "output_type": "execute_result"
    }
   ],
   "source": [
    "os.system('ls')"
   ]
  },
  {
   "cell_type": "code",
   "execution_count": null,
   "id": "4b930fd6",
   "metadata": {},
   "outputs": [],
   "source": []
  }
 ],
 "metadata": {
  "kernelspec": {
   "display_name": "Python 3 (ipykernel)",
   "language": "python",
   "name": "python3"
  },
  "language_info": {
   "codemirror_mode": {
    "name": "ipython",
    "version": 3
   },
   "file_extension": ".py",
   "mimetype": "text/x-python",
   "name": "python",
   "nbconvert_exporter": "python",
   "pygments_lexer": "ipython3",
   "version": "3.11.5"
  }
 },
 "nbformat": 4,
 "nbformat_minor": 5
}
