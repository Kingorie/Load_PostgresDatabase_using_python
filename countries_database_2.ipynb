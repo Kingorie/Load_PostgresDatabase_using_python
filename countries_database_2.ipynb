{
 "cells": [
  {
   "cell_type": "code",
   "execution_count": 23,
   "id": "9a6883ba",
   "metadata": {
    "ExecuteTime": {
     "end_time": "2024-01-27T08:59:43.414915Z",
     "start_time": "2024-01-27T08:59:43.410857Z"
    }
   },
   "outputs": [],
   "source": [
    "from sqlalchemy import engine\n",
    "import pandas as pd \n",
    "import os "
   ]
  },
  {
   "cell_type": "code",
   "execution_count": 24,
   "id": "774f7bfe",
   "metadata": {
    "ExecuteTime": {
     "end_time": "2024-01-27T08:59:44.302849Z",
     "start_time": "2024-01-27T08:59:44.300237Z"
    }
   },
   "outputs": [],
   "source": [
    "# identify and isolate csv files\n",
    "# create a directory \n",
    "# move the files for cleaning\n",
    "# create dataframe from csv\n",
    "# clean the filenames and column names\n",
    "# upload the data from csv to postgres"
   ]
  },
  {
   "cell_type": "code",
   "execution_count": 35,
   "id": "296db3e7",
   "metadata": {
    "ExecuteTime": {
     "end_time": "2024-01-27T09:24:07.679939Z",
     "start_time": "2024-01-27T09:24:07.675167Z"
    }
   },
   "outputs": [],
   "source": [
    "# create new directory\n",
    "\n",
    "folder_name = 'datasets'\n",
    "\n",
    "os.makedirs(folder_name, exist_ok=True)"
   ]
  },
  {
   "cell_type": "code",
   "execution_count": 36,
   "id": "fade717d",
   "metadata": {
    "ExecuteTime": {
     "end_time": "2024-01-27T09:24:09.012781Z",
     "start_time": "2024-01-27T09:24:09.005690Z"
    }
   },
   "outputs": [],
   "source": [
    "csv_files = []\n",
    "\n",
    "for file in os.listdir():\n",
    "    if file.endswith('.csv'):\n",
    "        csv_files.append(file)\n",
    "\n",
    "#csv_files"
   ]
  },
  {
   "cell_type": "code",
   "execution_count": 46,
   "id": "09a27e2a",
   "metadata": {
    "ExecuteTime": {
     "end_time": "2024-01-27T12:56:07.821797Z",
     "start_time": "2024-01-27T12:56:07.752306Z"
    }
   },
   "outputs": [],
   "source": [
    "# copy the files for cleaning\n",
    "# cp csv_files folder_name\n",
    "\n",
    "for csv in csv_files:\n",
    "    cp = \"cp '%s' %s\" % (csv, folder_name)\n",
    "    os.system(cp)"
   ]
  },
  {
   "cell_type": "code",
   "execution_count": 57,
   "id": "d41e2b4a",
   "metadata": {
    "ExecuteTime": {
     "end_time": "2024-01-27T13:13:27.877726Z",
     "start_time": "2024-01-27T13:13:27.845259Z"
    }
   },
   "outputs": [
    {
     "data": {
      "text/html": [
       "<div>\n",
       "<style scoped>\n",
       "    .dataframe tbody tr th:only-of-type {\n",
       "        vertical-align: middle;\n",
       "    }\n",
       "\n",
       "    .dataframe tbody tr th {\n",
       "        vertical-align: top;\n",
       "    }\n",
       "\n",
       "    .dataframe thead th {\n",
       "        text-align: right;\n",
       "    }\n",
       "</style>\n",
       "<table border=\"1\" class=\"dataframe\">\n",
       "  <thead>\n",
       "    <tr style=\"text-align: right;\">\n",
       "      <th></th>\n",
       "      <th>Rank</th>\n",
       "      <th>Country (or dependent territory)</th>\n",
       "      <th>Area km2</th>\n",
       "      <th>Area mi2</th>\n",
       "      <th>Population</th>\n",
       "      <th>Density pop./km2</th>\n",
       "      <th>Density pop./mi2</th>\n",
       "      <th>Date</th>\n",
       "      <th>Population source</th>\n",
       "    </tr>\n",
       "  </thead>\n",
       "  <tbody>\n",
       "    <tr>\n",
       "      <th>0</th>\n",
       "      <td>–</td>\n",
       "      <td>Macau</td>\n",
       "      <td>32.90</td>\n",
       "      <td>13</td>\n",
       "      <td>6,76,100</td>\n",
       "      <td>20,550</td>\n",
       "      <td>53,224</td>\n",
       "      <td>September 30, 2019</td>\n",
       "      <td>Official quarterly estimate</td>\n",
       "    </tr>\n",
       "    <tr>\n",
       "      <th>1</th>\n",
       "      <td>1</td>\n",
       "      <td>Monaco</td>\n",
       "      <td>2.02</td>\n",
       "      <td>0.78</td>\n",
       "      <td>38,300</td>\n",
       "      <td>18,960</td>\n",
       "      <td>49,106</td>\n",
       "      <td>December 31, 2018</td>\n",
       "      <td>Official estimate</td>\n",
       "    </tr>\n",
       "    <tr>\n",
       "      <th>2</th>\n",
       "      <td>2</td>\n",
       "      <td>Singapore</td>\n",
       "      <td>722.5</td>\n",
       "      <td>279</td>\n",
       "      <td>57,03,600</td>\n",
       "      <td>7,894</td>\n",
       "      <td>20,445</td>\n",
       "      <td>July 1, 2019</td>\n",
       "      <td>Official estimate</td>\n",
       "    </tr>\n",
       "    <tr>\n",
       "      <th>3</th>\n",
       "      <td>–</td>\n",
       "      <td>Hong Kong</td>\n",
       "      <td>1,106</td>\n",
       "      <td>427</td>\n",
       "      <td>75,00,700</td>\n",
       "      <td>6,782</td>\n",
       "      <td>17,565</td>\n",
       "      <td>December 31, 2019</td>\n",
       "      <td>Official estimate</td>\n",
       "    </tr>\n",
       "    <tr>\n",
       "      <th>4</th>\n",
       "      <td>–</td>\n",
       "      <td>Gibraltar (UK)</td>\n",
       "      <td>6.8</td>\n",
       "      <td>2.6</td>\n",
       "      <td>33,701</td>\n",
       "      <td>4,956</td>\n",
       "      <td>12,836</td>\n",
       "      <td>July 1, 2019</td>\n",
       "      <td>UN projection</td>\n",
       "    </tr>\n",
       "  </tbody>\n",
       "</table>\n",
       "</div>"
      ],
      "text/plain": [
       "  Rank Country (or dependent territory) Area km2 Area mi2 Population  \\\n",
       "0    –                            Macau    32.90       13   6,76,100   \n",
       "1    1                           Monaco     2.02     0.78     38,300   \n",
       "2    2                        Singapore    722.5      279  57,03,600   \n",
       "3    –                        Hong Kong    1,106      427  75,00,700   \n",
       "4    –                   Gibraltar (UK)      6.8      2.6     33,701   \n",
       "\n",
       "  Density pop./km2 Density pop./mi2                Date  \\\n",
       "0           20,550           53,224  September 30, 2019   \n",
       "1           18,960           49,106   December 31, 2018   \n",
       "2            7,894           20,445        July 1, 2019   \n",
       "3            6,782           17,565   December 31, 2019   \n",
       "4            4,956           12,836        July 1, 2019   \n",
       "\n",
       "             Population source  \n",
       "0  Official quarterly estimate  \n",
       "1            Official estimate  \n",
       "2            Official estimate  \n",
       "3            Official estimate  \n",
       "4                UN projection  "
      ]
     },
     "execution_count": 57,
     "metadata": {},
     "output_type": "execute_result"
    }
   ],
   "source": [
    "# create dataframe from csv\n",
    "\n",
    "df = {}\n",
    "\n",
    "file_path = os.getcwd() + '/' + folder_name + '/'\n",
    "\n",
    "for file in csv_files:\n",
    "    df[file] = pd.read_csv(file_path + file)\n",
    "\n",
    "df['Pupulation density by countries.csv'].head()"
   ]
  },
  {
   "cell_type": "code",
   "execution_count": 51,
   "id": "66b4e129",
   "metadata": {
    "ExecuteTime": {
     "end_time": "2024-01-27T13:07:23.130849Z",
     "start_time": "2024-01-27T13:07:23.127242Z"
    }
   },
   "outputs": [
    {
     "name": "stdout",
     "output_type": "stream",
     "text": [
      "/Users/kingori/Library/CloudStorage/GoogleDrive-kingori.ek@gmail.com/My Drive/Documents/Python/Projects/csv_to_postgresql/datasets\n"
     ]
    }
   ],
   "source": [
    "file_path = os.getcwd() + '/' + folder_name\n",
    "\n",
    "print(file_path)"
   ]
  },
  {
   "cell_type": "code",
   "execution_count": null,
   "id": "ad51ee40",
   "metadata": {},
   "outputs": [],
   "source": []
  }
 ],
 "metadata": {
  "kernelspec": {
   "display_name": "Python 3 (ipykernel)",
   "language": "python",
   "name": "python3"
  },
  "language_info": {
   "codemirror_mode": {
    "name": "ipython",
    "version": 3
   },
   "file_extension": ".py",
   "mimetype": "text/x-python",
   "name": "python",
   "nbconvert_exporter": "python",
   "pygments_lexer": "ipython3",
   "version": "3.11.5"
  }
 },
 "nbformat": 4,
 "nbformat_minor": 5
}
