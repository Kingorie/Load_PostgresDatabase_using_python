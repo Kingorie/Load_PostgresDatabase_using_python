{
 "cells": [
  {
   "cell_type": "code",
   "execution_count": 2,
   "id": "9a6883ba",
   "metadata": {
    "ExecuteTime": {
     "end_time": "2024-01-27T19:19:21.840994Z",
     "start_time": "2024-01-27T19:19:21.101081Z"
    }
   },
   "outputs": [],
   "source": [
    "from sqlalchemy import engine\n",
    "import pandas as pd \n",
    "import os "
   ]
  },
  {
   "cell_type": "code",
   "execution_count": 3,
   "id": "774f7bfe",
   "metadata": {
    "ExecuteTime": {
     "end_time": "2024-01-27T19:19:21.843785Z",
     "start_time": "2024-01-27T19:19:21.842285Z"
    }
   },
   "outputs": [],
   "source": [
    "# identify and isolate csv files\n",
    "# create a directory \n",
    "# move the files for cleaning\n",
    "# create dataframe from csv\n",
    "# clean the filenames and column names\n",
    "# upload the data from csv to postgres"
   ]
  },
  {
   "cell_type": "code",
   "execution_count": 4,
   "id": "296db3e7",
   "metadata": {
    "ExecuteTime": {
     "end_time": "2024-01-27T19:19:21.846600Z",
     "start_time": "2024-01-27T19:19:21.844760Z"
    }
   },
   "outputs": [],
   "source": [
    "# create new directory\n",
    "\n",
    "folder_name = 'datasets'\n",
    "\n",
    "os.makedirs(folder_name, exist_ok=True)"
   ]
  },
  {
   "cell_type": "code",
   "execution_count": 5,
   "id": "fade717d",
   "metadata": {
    "ExecuteTime": {
     "end_time": "2024-01-27T19:19:21.852086Z",
     "start_time": "2024-01-27T19:19:21.848605Z"
    }
   },
   "outputs": [],
   "source": [
    "csv_files = []\n",
    "\n",
    "for file in os.listdir():\n",
    "    if file.endswith('.csv'):\n",
    "        csv_files.append(file)\n",
    "\n",
    "#csv_files"
   ]
  },
  {
   "cell_type": "code",
   "execution_count": 6,
   "id": "09a27e2a",
   "metadata": {
    "ExecuteTime": {
     "end_time": "2024-01-27T19:19:21.899643Z",
     "start_time": "2024-01-27T19:19:21.853009Z"
    }
   },
   "outputs": [],
   "source": [
    "# copy the files for cleaning\n",
    "# cp csv_files folder_name\n",
    "\n",
    "for csv in csv_files:\n",
    "    cp = \"cp '%s' %s\" % (csv, folder_name)\n",
    "    os.system(cp)"
   ]
  },
  {
   "cell_type": "code",
   "execution_count": 9,
   "id": "d41e2b4a",
   "metadata": {
    "ExecuteTime": {
     "end_time": "2024-01-27T19:19:28.616381Z",
     "start_time": "2024-01-27T19:19:28.600183Z"
    }
   },
   "outputs": [],
   "source": [
    "# create dataframe from csv\n",
    "\n",
    "df = {}\n",
    "\n",
    "file_path = os.getcwd() + '/' + folder_name + '/'\n",
    "\n",
    "for file in csv_files:\n",
    "    df[file] = pd.read_csv(file_path + file)\n",
    "\n",
    "#df['Pupulation density by countries.csv'].head()"
   ]
  },
  {
   "cell_type": "code",
   "execution_count": 8,
   "id": "66b4e129",
   "metadata": {
    "ExecuteTime": {
     "end_time": "2024-01-27T19:19:21.996329Z",
     "start_time": "2024-01-27T19:19:21.994469Z"
    }
   },
   "outputs": [
    {
     "name": "stdout",
     "output_type": "stream",
     "text": [
      "/Users/kingori/Documents/GitHub/Load_PostgresDatabase_using_python/datasets\n"
     ]
    }
   ],
   "source": [
    "# clean the filenames and column names\n",
    "\n",
    "for k in csv_files:\n",
    "    "
   ]
  },
  {
   "cell_type": "code",
   "execution_count": null,
   "id": "ad51ee40",
   "metadata": {},
   "outputs": [],
   "source": []
  }
 ],
 "metadata": {
  "kernelspec": {
   "display_name": "Python 3 (ipykernel)",
   "language": "python",
   "name": "python3"
  },
  "language_info": {
   "codemirror_mode": {
    "name": "ipython",
    "version": 3
   },
   "file_extension": ".py",
   "mimetype": "text/x-python",
   "name": "python",
   "nbconvert_exporter": "python",
   "pygments_lexer": "ipython3",
   "version": "3.11.5"
  }
 },
 "nbformat": 4,
 "nbformat_minor": 5
}
