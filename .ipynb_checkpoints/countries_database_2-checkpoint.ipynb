{
 "cells": [
  {
   "cell_type": "code",
   "execution_count": 18,
   "id": "9a6883ba",
   "metadata": {
    "ExecuteTime": {
     "end_time": "2024-01-27T19:23:44.084257Z",
     "start_time": "2024-01-27T19:23:44.081632Z"
    }
   },
   "outputs": [],
   "source": [
    "from sqlalchemy import engine\n",
    "import pandas as pd \n",
    "import os "
   ]
  },
  {
   "cell_type": "code",
   "execution_count": 19,
   "id": "774f7bfe",
   "metadata": {
    "ExecuteTime": {
     "end_time": "2024-01-27T19:23:44.088773Z",
     "start_time": "2024-01-27T19:23:44.086577Z"
    }
   },
   "outputs": [],
   "source": [
    "# identify and isolate csv files\n",
    "# create a directory \n",
    "# move the files for cleaning\n",
    "# create dataframe from csv\n",
    "# clean the filenames and column names\n",
    "# upload the data from csv to postgres"
   ]
  },
  {
   "cell_type": "code",
   "execution_count": 20,
   "id": "296db3e7",
   "metadata": {
    "ExecuteTime": {
     "end_time": "2024-01-27T19:23:44.093518Z",
     "start_time": "2024-01-27T19:23:44.090346Z"
    }
   },
   "outputs": [],
   "source": [
    "# create new directory\n",
    "\n",
    "folder_name = 'datasets'\n",
    "\n",
    "os.makedirs(folder_name, exist_ok=True)"
   ]
  },
  {
   "cell_type": "code",
   "execution_count": 21,
   "id": "fade717d",
   "metadata": {
    "ExecuteTime": {
     "end_time": "2024-01-27T19:23:44.102248Z",
     "start_time": "2024-01-27T19:23:44.096621Z"
    }
   },
   "outputs": [
    {
     "data": {
      "text/plain": [
       "['Cost of living index by country 2020.csv',\n",
       " 'Quality of life index by countries 2020.csv',\n",
       " 'Health care index by countries 2020.csv',\n",
       " 'Pupulation density by countries.csv',\n",
       " 'Properties price index by countries 2020$.csv',\n",
       " 'Crime index by countries 2020.csv',\n",
       " 'Coutries age structure.csv']"
      ]
     },
     "execution_count": 21,
     "metadata": {},
     "output_type": "execute_result"
    }
   ],
   "source": [
    "csv_files = []\n",
    "\n",
    "for file in os.listdir():\n",
    "    if file.endswith('.csv'):\n",
    "        csv_files.append(file)\n",
    "\n",
    "csv_files"
   ]
  },
  {
   "cell_type": "code",
   "execution_count": 22,
   "id": "09a27e2a",
   "metadata": {
    "ExecuteTime": {
     "end_time": "2024-01-27T19:23:44.148885Z",
     "start_time": "2024-01-27T19:23:44.104139Z"
    }
   },
   "outputs": [],
   "source": [
    "# copy the files for cleaning\n",
    "# cp csv_files folder_name\n",
    "\n",
    "for csv in csv_files:\n",
    "    cp = \"cp '%s' %s\" % (csv, folder_name)\n",
    "    os.system(cp)"
   ]
  },
  {
   "cell_type": "code",
   "execution_count": 23,
   "id": "d41e2b4a",
   "metadata": {
    "ExecuteTime": {
     "end_time": "2024-01-27T19:23:44.162658Z",
     "start_time": "2024-01-27T19:23:44.150173Z"
    }
   },
   "outputs": [
    {
     "data": {
      "text/html": [
       "<div>\n",
       "<style scoped>\n",
       "    .dataframe tbody tr th:only-of-type {\n",
       "        vertical-align: middle;\n",
       "    }\n",
       "\n",
       "    .dataframe tbody tr th {\n",
       "        vertical-align: top;\n",
       "    }\n",
       "\n",
       "    .dataframe thead th {\n",
       "        text-align: right;\n",
       "    }\n",
       "</style>\n",
       "<table border=\"1\" class=\"dataframe\">\n",
       "  <thead>\n",
       "    <tr style=\"text-align: right;\">\n",
       "      <th></th>\n",
       "      <th>Rank</th>\n",
       "      <th>Country (or dependent territory)</th>\n",
       "      <th>Area km2</th>\n",
       "      <th>Area mi2</th>\n",
       "      <th>Population</th>\n",
       "      <th>Density pop./km2</th>\n",
       "      <th>Density pop./mi2</th>\n",
       "      <th>Date</th>\n",
       "      <th>Population source</th>\n",
       "    </tr>\n",
       "  </thead>\n",
       "  <tbody>\n",
       "    <tr>\n",
       "      <th>0</th>\n",
       "      <td>–</td>\n",
       "      <td>Macau</td>\n",
       "      <td>32.90</td>\n",
       "      <td>13</td>\n",
       "      <td>6,76,100</td>\n",
       "      <td>20,550</td>\n",
       "      <td>53,224</td>\n",
       "      <td>September 30, 2019</td>\n",
       "      <td>Official quarterly estimate</td>\n",
       "    </tr>\n",
       "    <tr>\n",
       "      <th>1</th>\n",
       "      <td>1</td>\n",
       "      <td>Monaco</td>\n",
       "      <td>2.02</td>\n",
       "      <td>0.78</td>\n",
       "      <td>38,300</td>\n",
       "      <td>18,960</td>\n",
       "      <td>49,106</td>\n",
       "      <td>December 31, 2018</td>\n",
       "      <td>Official estimate</td>\n",
       "    </tr>\n",
       "    <tr>\n",
       "      <th>2</th>\n",
       "      <td>2</td>\n",
       "      <td>Singapore</td>\n",
       "      <td>722.5</td>\n",
       "      <td>279</td>\n",
       "      <td>57,03,600</td>\n",
       "      <td>7,894</td>\n",
       "      <td>20,445</td>\n",
       "      <td>July 1, 2019</td>\n",
       "      <td>Official estimate</td>\n",
       "    </tr>\n",
       "    <tr>\n",
       "      <th>3</th>\n",
       "      <td>–</td>\n",
       "      <td>Hong Kong</td>\n",
       "      <td>1,106</td>\n",
       "      <td>427</td>\n",
       "      <td>75,00,700</td>\n",
       "      <td>6,782</td>\n",
       "      <td>17,565</td>\n",
       "      <td>December 31, 2019</td>\n",
       "      <td>Official estimate</td>\n",
       "    </tr>\n",
       "    <tr>\n",
       "      <th>4</th>\n",
       "      <td>–</td>\n",
       "      <td>Gibraltar (UK)</td>\n",
       "      <td>6.8</td>\n",
       "      <td>2.6</td>\n",
       "      <td>33,701</td>\n",
       "      <td>4,956</td>\n",
       "      <td>12,836</td>\n",
       "      <td>July 1, 2019</td>\n",
       "      <td>UN projection</td>\n",
       "    </tr>\n",
       "  </tbody>\n",
       "</table>\n",
       "</div>"
      ],
      "text/plain": [
       "  Rank Country (or dependent territory) Area km2 Area mi2 Population  \\\n",
       "0    –                            Macau    32.90       13   6,76,100   \n",
       "1    1                           Monaco     2.02     0.78     38,300   \n",
       "2    2                        Singapore    722.5      279  57,03,600   \n",
       "3    –                        Hong Kong    1,106      427  75,00,700   \n",
       "4    –                   Gibraltar (UK)      6.8      2.6     33,701   \n",
       "\n",
       "  Density pop./km2 Density pop./mi2                Date  \\\n",
       "0           20,550           53,224  September 30, 2019   \n",
       "1           18,960           49,106   December 31, 2018   \n",
       "2            7,894           20,445        July 1, 2019   \n",
       "3            6,782           17,565   December 31, 2019   \n",
       "4            4,956           12,836        July 1, 2019   \n",
       "\n",
       "             Population source  \n",
       "0  Official quarterly estimate  \n",
       "1            Official estimate  \n",
       "2            Official estimate  \n",
       "3            Official estimate  \n",
       "4                UN projection  "
      ]
     },
     "execution_count": 23,
     "metadata": {},
     "output_type": "execute_result"
    }
   ],
   "source": [
    "# create dataframe from csv\n",
    "\n",
    "df = {}\n",
    "\n",
    "file_path = os.getcwd() + '/' + folder_name + '/'\n",
    "\n",
    "for file in csv_files:\n",
    "    df[file] = pd.read_csv(file_path + file)\n",
    "\n",
    "df['Pupulation density by countries.csv'].head()"
   ]
  },
  {
   "cell_type": "code",
   "execution_count": 35,
   "id": "66b4e129",
   "metadata": {
    "ExecuteTime": {
     "end_time": "2024-01-27T19:31:25.950258Z",
     "start_time": "2024-01-27T19:31:25.944711Z"
    }
   },
   "outputs": [
    {
     "name": "stdout",
     "output_type": "stream",
     "text": [
      "cost_of_living_index_by_country_2020\n",
      "Index(['country', 'cost_of_living_index', 'rent_index',\n",
      "       'cost_of_living_plus_rent_index', 'groceries_index',\n",
      "       'restaurant_price_index', 'local_purchasing_power_index'],\n",
      "      dtype='object')\n",
      "quality_of_life_index_by_countries_2020\n",
      "Index(['country', 'quality_of_life_index', 'purchasing_power_index',\n",
      "       'safety_index', 'health_care_index', 'cost_of_living_index',\n",
      "       'property_price_to_income_ratio', 'traffic_commute_time_index',\n",
      "       'pollution_index', 'climate_index'],\n",
      "      dtype='object')\n",
      "health_care_index_by_countries_2020\n",
      "Index(['country', 'health_care_index', 'health_care_exp._index'], dtype='object')\n",
      "pupulation_density_by_countries\n",
      "Index(['rank', 'country_(or_dependent_territory)', 'area_km2', 'area_mi2',\n",
      "       'population', 'density_pop./km2', 'density_pop./mi2', 'date',\n",
      "       'population_source'],\n",
      "      dtype='object')\n",
      "properties_price_index_by_countries_2020\n",
      "Index(['country', 'price_to_income_ratio', 'gross_rental_yield_city_centre',\n",
      "       'gross_rental_yield_outside_of_centre',\n",
      "       'price_to_rent_ratio_city_centre',\n",
      "       'price_to_rent_ratio_outside_of_city_centre',\n",
      "       'mortgage_as_a_percentage_of_income', 'affordability_index'],\n",
      "      dtype='object')\n",
      "crime_index_by_countries_2020\n",
      "Index(['country', 'crime_index', 'safety_index'], dtype='object')\n",
      "coutries_age_structure\n",
      "Index(['country', 'age_0_to_14_years', 'age_15_to_64_years',\n",
      "       'age_above_65_years'],\n",
      "      dtype='object')\n"
     ]
    }
   ],
   "source": [
    "# clean the filenames and column names\n",
    "\n",
    "for k in csv_files:\n",
    "    \n",
    "    dataframe = df[k]\n",
    "    \n",
    "    table_name = k.lower().replace(\" \",\"_\").replace(\"$\",\"\")\n",
    "    clean_table_name = table_name.split('.')[0]\n",
    "    print(clean_table_name)\n",
    "    \n",
    "    df[k].columns = [x.lower().replace(\" \",\"_\").replace(\"$\",\"\") for x in df[k].columns]\n",
    "    print(df[k].columns)"
   ]
  },
  {
   "cell_type": "code",
   "execution_count": null,
   "id": "ad51ee40",
   "metadata": {},
   "outputs": [],
   "source": []
  }
 ],
 "metadata": {
  "kernelspec": {
   "display_name": "Python 3 (ipykernel)",
   "language": "python",
   "name": "python3"
  },
  "language_info": {
   "codemirror_mode": {
    "name": "ipython",
    "version": 3
   },
   "file_extension": ".py",
   "mimetype": "text/x-python",
   "name": "python",
   "nbconvert_exporter": "python",
   "pygments_lexer": "ipython3",
   "version": "3.11.5"
  }
 },
 "nbformat": 4,
 "nbformat_minor": 5
}
