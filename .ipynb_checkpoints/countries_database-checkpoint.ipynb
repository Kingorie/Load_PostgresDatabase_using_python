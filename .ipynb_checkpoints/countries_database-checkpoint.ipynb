{
 "cells": [
  {
   "cell_type": "code",
   "execution_count": 1,
   "id": "196a5678",
   "metadata": {
    "ExecuteTime": {
     "end_time": "2024-01-18T08:37:05.977109Z",
     "start_time": "2024-01-18T08:37:05.488536Z"
    }
   },
   "outputs": [],
   "source": [
    "# import libraries\n",
    "\n",
    "import pandas as pd \n",
    "from sqlalchemy import engine\n",
    "import os"
   ]
  },
  {
   "cell_type": "code",
   "execution_count": 2,
   "id": "142781d0",
   "metadata": {
    "ExecuteTime": {
     "end_time": "2024-01-18T08:37:05.985352Z",
     "start_time": "2024-01-18T08:37:05.978218Z"
    }
   },
   "outputs": [],
   "source": [
    "engine = 'postgresql://kingori:@localhost:5432/countries'"
   ]
  },
  {
   "cell_type": "code",
   "execution_count": 14,
   "id": "3b59637d",
   "metadata": {
    "ExecuteTime": {
     "end_time": "2024-01-18T08:45:31.251149Z",
     "start_time": "2024-01-18T08:45:31.248569Z"
    }
   },
   "outputs": [],
   "source": [
    "# isolate csv files\n",
    "# create dataframe fron them\n",
    "    # clean tablenames and columns\n",
    "# load to DB"
   ]
  },
  {
   "cell_type": "code",
   "execution_count": 30,
   "id": "ea8d0574",
   "metadata": {
    "ExecuteTime": {
     "end_time": "2024-01-18T09:10:10.733884Z",
     "start_time": "2024-01-18T09:10:10.726389Z"
    }
   },
   "outputs": [
    {
     "name": "stdout",
     "output_type": "stream",
     "text": [
      "['Country full.csv', 'Country$.csv', 'Continent.csv']\n"
     ]
    }
   ],
   "source": [
    "# isolate csv files\n",
    "\n",
    "files = os.listdir(os.getcwd())\n",
    "csv_files = []\n",
    "\n",
    "for file in files:\n",
    "    if file.endswith('.csv'):\n",
    "        csv_files.append(file)\n",
    "print(csv_files)"
   ]
  },
  {
   "cell_type": "code",
   "execution_count": 31,
   "id": "feda4cb5",
   "metadata": {
    "ExecuteTime": {
     "end_time": "2024-01-18T09:10:14.960998Z",
     "start_time": "2024-01-18T09:10:14.936673Z"
    }
   },
   "outputs": [
    {
     "name": "stderr",
     "output_type": "stream",
     "text": [
      "mkdir: datasets: File exists\n"
     ]
    }
   ],
   "source": [
    "# create a datasets directory\n",
    "\n",
    "dataset_dir = 'datasets'\n",
    "\n",
    "try:\n",
    "    os.system('mkdir %s' % dataset_dir)\n",
    "except:\n",
    "    pass"
   ]
  },
  {
   "cell_type": "code",
   "execution_count": 35,
   "id": "1e8dd06d",
   "metadata": {
    "ExecuteTime": {
     "end_time": "2024-01-18T09:14:13.785758Z",
     "start_time": "2024-01-18T09:14:13.731870Z"
    }
   },
   "outputs": [
    {
     "name": "stdout",
     "output_type": "stream",
     "text": [
      "cp 'Country full.csv' datasets\n",
      "cp 'Country$.csv' datasets\n",
      "cp 'Continent.csv' datasets\n"
     ]
    }
   ],
   "source": [
    "# copy csv files to datasets directory for cleanup\n",
    "\n",
    "for csv in csv_files:\n",
    "    cp_file = \"cp '%s' %s\" % (csv, dataset_dir)\n",
    "    os.system(cp_file)\n",
    "    #print(cp_file)\n"
   ]
  },
  {
   "cell_type": "code",
   "execution_count": null,
   "id": "30d9e9d0",
   "metadata": {},
   "outputs": [],
   "source": [
    "# create dataframe from them\n",
    " \n",
    "\n",
    "df = pd.read_csv(datapath + file)"
   ]
  }
 ],
 "metadata": {
  "kernelspec": {
   "display_name": "Python 3 (ipykernel)",
   "language": "python",
   "name": "python3"
  },
  "language_info": {
   "codemirror_mode": {
    "name": "ipython",
    "version": 3
   },
   "file_extension": ".py",
   "mimetype": "text/x-python",
   "name": "python",
   "nbconvert_exporter": "python",
   "pygments_lexer": "ipython3",
   "version": "3.11.5"
  }
 },
 "nbformat": 4,
 "nbformat_minor": 5
}
