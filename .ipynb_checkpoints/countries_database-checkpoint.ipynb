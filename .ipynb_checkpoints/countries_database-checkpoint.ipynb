{
 "cells": [
  {
   "cell_type": "code",
   "execution_count": 1,
   "id": "196a5678",
   "metadata": {
    "ExecuteTime": {
     "end_time": "2024-01-18T08:37:05.977109Z",
     "start_time": "2024-01-18T08:37:05.488536Z"
    }
   },
   "outputs": [],
   "source": [
    "# import libraries\n",
    "\n",
    "import pandas as pd \n",
    "from sqlalchemy import engine\n",
    "import os"
   ]
  },
  {
   "cell_type": "code",
   "execution_count": 2,
   "id": "142781d0",
   "metadata": {
    "ExecuteTime": {
     "end_time": "2024-01-18T08:37:05.985352Z",
     "start_time": "2024-01-18T08:37:05.978218Z"
    }
   },
   "outputs": [],
   "source": [
    "engine = 'postgresql://kingori:@localhost:5432/countries'"
   ]
  },
  {
   "cell_type": "code",
   "execution_count": 14,
   "id": "fc6601fe",
   "metadata": {
    "ExecuteTime": {
     "end_time": "2024-01-18T08:45:31.251149Z",
     "start_time": "2024-01-18T08:45:31.248569Z"
    }
   },
   "outputs": [],
   "source": [
    "# isolate csv files\n",
    "# create dataframe fron them\n",
    "    # clean tablenames and columns\n",
    "# load to DB"
   ]
  },
  {
   "cell_type": "code",
   "execution_count": 17,
   "id": "6cb02549",
   "metadata": {
    "ExecuteTime": {
     "end_time": "2024-01-18T08:46:22.554607Z",
     "start_time": "2024-01-18T08:46:22.549543Z"
    }
   },
   "outputs": [
    {
     "name": "stdout",
     "output_type": "stream",
     "text": [
      "['Country full.csv', 'Country$.csv', 'Continent.csv']\n"
     ]
    }
   ],
   "source": [
    "# isolate csv files\n",
    "\n",
    "files = os.listdir(os.getcwd())\n",
    "csv_files = []\n",
    "\n",
    "for file in files:\n",
    "    if file.endswith('.csv'):\n",
    "        csv_files.append(file)\n",
    "print(csv_files)"
   ]
  },
  {
   "cell_type": "code",
   "execution_count": 5,
   "id": "72b759e5",
   "metadata": {
    "ExecuteTime": {
     "end_time": "2024-01-18T08:38:28.480400Z",
     "start_time": "2024-01-18T08:38:28.473441Z"
    }
   },
   "outputs": [
    {
     "data": {
      "text/plain": [
       "'/Users/kingori/Documents/GitHub/Load_PostgresDatabase_using_python'"
      ]
     },
     "execution_count": 5,
     "metadata": {},
     "output_type": "execute_result"
    }
   ],
   "source": [
    "os.getcwd()"
   ]
  },
  {
   "cell_type": "code",
   "execution_count": 7,
   "id": "4dc0e97b",
   "metadata": {
    "ExecuteTime": {
     "end_time": "2024-01-18T08:40:05.629587Z",
     "start_time": "2024-01-18T08:40:05.591125Z"
    }
   },
   "outputs": [
    {
     "name": "stdout",
     "output_type": "stream",
     "text": [
      "Continent.csv\n",
      "Country full.csv\n",
      "Country$.csv\n",
      "README.md\n",
      "countries_database.ipynb\n"
     ]
    },
    {
     "data": {
      "text/plain": [
       "0"
      ]
     },
     "execution_count": 7,
     "metadata": {},
     "output_type": "execute_result"
    }
   ],
   "source": [
    "os.system('ls')"
   ]
  },
  {
   "cell_type": "code",
   "execution_count": null,
   "id": "aaa70923",
   "metadata": {},
   "outputs": [],
   "source": []
  }
 ],
 "metadata": {
  "kernelspec": {
   "display_name": "Python 3 (ipykernel)",
   "language": "python",
   "name": "python3"
  },
  "language_info": {
   "codemirror_mode": {
    "name": "ipython",
    "version": 3
   },
   "file_extension": ".py",
   "mimetype": "text/x-python",
   "name": "python",
   "nbconvert_exporter": "python",
   "pygments_lexer": "ipython3",
   "version": "3.11.5"
  }
 },
 "nbformat": 4,
 "nbformat_minor": 5
}
