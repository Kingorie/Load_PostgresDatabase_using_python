{
 "cells": [
  {
   "cell_type": "code",
   "execution_count": 73,
   "id": "246cdf04",
   "metadata": {
    "ExecuteTime": {
     "end_time": "2024-01-20T17:09:40.612131Z",
     "start_time": "2024-01-20T17:09:40.600432Z"
    }
   },
   "outputs": [],
   "source": [
    "from sqlalchemy import engine\n",
    "import pandas as pd \n",
    "import os"
   ]
  },
  {
   "cell_type": "code",
   "execution_count": 74,
   "id": "a19a470a",
   "metadata": {
    "ExecuteTime": {
     "end_time": "2024-01-20T17:09:43.146901Z",
     "start_time": "2024-01-20T17:09:43.144040Z"
    }
   },
   "outputs": [],
   "source": [
    "# isolate csv files\n",
    "# copy them to a new directory\n",
    "# create a dataframe from the csv\n",
    "    # clean up columns an table names\n",
    "# load dataframe to postgres dataframe"
   ]
  },
  {
   "cell_type": "code",
   "execution_count": 75,
   "id": "d102eb4b",
   "metadata": {
    "ExecuteTime": {
     "end_time": "2024-01-20T17:09:48.987387Z",
     "start_time": "2024-01-20T17:09:48.977784Z"
    }
   },
   "outputs": [
    {
     "data": {
      "text/plain": [
       "['Salesperson.csv',\n",
       " 'SalespersonRegion.csv',\n",
       " 'Region.csv',\n",
       " 'Reseller.csv',\n",
       " 'Targets.csv',\n",
       " 'Product.csv',\n",
       " 'Sales.csv']"
      ]
     },
     "execution_count": 75,
     "metadata": {},
     "output_type": "execute_result"
    }
   ],
   "source": [
    "# isolate csv files\n",
    "\n",
    "csv_files = []\n",
    "\n",
    "for file in os.listdir(os.getcwd()):\n",
    "    if file.endswith('.csv'):\n",
    "        csv_files.append(file)\n",
    "    \n",
    "csv_files  "
   ]
  },
  {
   "cell_type": "code",
   "execution_count": 76,
   "id": "3f9ca7c8",
   "metadata": {
    "ExecuteTime": {
     "end_time": "2024-01-20T17:09:53.492909Z",
     "start_time": "2024-01-20T17:09:53.449933Z"
    }
   },
   "outputs": [
    {
     "name": "stderr",
     "output_type": "stream",
     "text": [
      "mkdir: datasets: File exists\n"
     ]
    }
   ],
   "source": [
    "# create new directory\n",
    "\n",
    "directory = 'datasets'\n",
    "\n",
    "try:\n",
    "    os.system('mkdir %s' % directory)\n",
    "except:\n",
    "    pass"
   ]
  },
  {
   "cell_type": "code",
   "execution_count": 77,
   "id": "7946d542",
   "metadata": {
    "ExecuteTime": {
     "end_time": "2024-01-20T17:09:55.388291Z",
     "start_time": "2024-01-20T17:09:55.307100Z"
    }
   },
   "outputs": [],
   "source": [
    "# copy csv to a new directory\n",
    "\n",
    "for file in csv_files:\n",
    "    cp_file = \"cp '{}' {}\".format(file, directory)\n",
    "    os.system(cp_file)\n",
    "\n",
    "    #print(cp_file)"
   ]
  },
  {
   "cell_type": "code",
   "execution_count": 72,
   "id": "43ecbb8b",
   "metadata": {
    "ExecuteTime": {
     "end_time": "2024-01-20T16:58:40.176820Z",
     "start_time": "2024-01-20T16:58:40.069944Z"
    }
   },
   "outputs": [
    {
     "data": {
      "text/html": [
       "<div>\n",
       "<style scoped>\n",
       "    .dataframe tbody tr th:only-of-type {\n",
       "        vertical-align: middle;\n",
       "    }\n",
       "\n",
       "    .dataframe tbody tr th {\n",
       "        vertical-align: top;\n",
       "    }\n",
       "\n",
       "    .dataframe thead th {\n",
       "        text-align: right;\n",
       "    }\n",
       "</style>\n",
       "<table border=\"1\" class=\"dataframe\">\n",
       "  <thead>\n",
       "    <tr style=\"text-align: right;\">\n",
       "      <th></th>\n",
       "      <th>Name</th>\n",
       "      <th>alpha 2</th>\n",
       "      <th>alpha 3</th>\n",
       "      <th>country Code</th>\n",
       "      <th>iso 3166 2</th>\n",
       "      <th>region</th>\n",
       "      <th>Sub region</th>\n",
       "      <th>Intermediate-region</th>\n",
       "      <th>Region-code</th>\n",
       "      <th>sub-region-code</th>\n",
       "      <th>Intermediate-region-code</th>\n",
       "    </tr>\n",
       "  </thead>\n",
       "  <tbody>\n",
       "    <tr>\n",
       "      <th>0</th>\n",
       "      <td>Afghanistan</td>\n",
       "      <td>AF</td>\n",
       "      <td>AFG</td>\n",
       "      <td>4</td>\n",
       "      <td>ISO 3166-2:AF</td>\n",
       "      <td>Asia</td>\n",
       "      <td>Southern Asia</td>\n",
       "      <td>NaN</td>\n",
       "      <td>142.0</td>\n",
       "      <td>34.0</td>\n",
       "      <td>NaN</td>\n",
       "    </tr>\n",
       "    <tr>\n",
       "      <th>1</th>\n",
       "      <td>Åland Islands</td>\n",
       "      <td>AX</td>\n",
       "      <td>ALA</td>\n",
       "      <td>248</td>\n",
       "      <td>ISO 3166-2:AX</td>\n",
       "      <td>Europe</td>\n",
       "      <td>Northern Europe</td>\n",
       "      <td>NaN</td>\n",
       "      <td>150.0</td>\n",
       "      <td>154.0</td>\n",
       "      <td>NaN</td>\n",
       "    </tr>\n",
       "    <tr>\n",
       "      <th>2</th>\n",
       "      <td>Albania</td>\n",
       "      <td>AL</td>\n",
       "      <td>ALB</td>\n",
       "      <td>8</td>\n",
       "      <td>ISO 3166-2:AL</td>\n",
       "      <td>Europe</td>\n",
       "      <td>Southern Europe</td>\n",
       "      <td>NaN</td>\n",
       "      <td>150.0</td>\n",
       "      <td>39.0</td>\n",
       "      <td>NaN</td>\n",
       "    </tr>\n",
       "    <tr>\n",
       "      <th>3</th>\n",
       "      <td>Algeria</td>\n",
       "      <td>DZ</td>\n",
       "      <td>DZA</td>\n",
       "      <td>12</td>\n",
       "      <td>ISO 3166-2:DZ</td>\n",
       "      <td>Africa</td>\n",
       "      <td>Northern Africa</td>\n",
       "      <td>NaN</td>\n",
       "      <td>2.0</td>\n",
       "      <td>15.0</td>\n",
       "      <td>NaN</td>\n",
       "    </tr>\n",
       "    <tr>\n",
       "      <th>4</th>\n",
       "      <td>American Samoa</td>\n",
       "      <td>AS</td>\n",
       "      <td>ASM</td>\n",
       "      <td>16</td>\n",
       "      <td>ISO 3166-2:AS</td>\n",
       "      <td>Oceania</td>\n",
       "      <td>Polynesia</td>\n",
       "      <td>NaN</td>\n",
       "      <td>9.0</td>\n",
       "      <td>61.0</td>\n",
       "      <td>NaN</td>\n",
       "    </tr>\n",
       "  </tbody>\n",
       "</table>\n",
       "</div>"
      ],
      "text/plain": [
       "             Name alpha 2 alpha 3  country Code     iso 3166 2   region  \\\n",
       "0     Afghanistan      AF     AFG             4  ISO 3166-2:AF     Asia   \n",
       "1   Åland Islands      AX     ALA           248  ISO 3166-2:AX   Europe   \n",
       "2         Albania      AL     ALB             8  ISO 3166-2:AL   Europe   \n",
       "3         Algeria      DZ     DZA            12  ISO 3166-2:DZ   Africa   \n",
       "4  American Samoa      AS     ASM            16  ISO 3166-2:AS  Oceania   \n",
       "\n",
       "        Sub region Intermediate-region  Region-code  sub-region-code  \\\n",
       "0    Southern Asia                 NaN        142.0             34.0   \n",
       "1  Northern Europe                 NaN        150.0            154.0   \n",
       "2  Southern Europe                 NaN        150.0             39.0   \n",
       "3  Northern Africa                 NaN          2.0             15.0   \n",
       "4        Polynesia                 NaN          9.0             61.0   \n",
       "\n",
       "   Intermediate-region-code  \n",
       "0                       NaN  \n",
       "1                       NaN  \n",
       "2                       NaN  \n",
       "3                       NaN  \n",
       "4                       NaN  "
      ]
     },
     "execution_count": 72,
     "metadata": {},
     "output_type": "execute_result"
    }
   ],
   "source": [
    "# create a dataframe from the csv\n",
    "# pd.read_csv(path + file)\n",
    "df = {}\n",
    "\n",
    "path = os.getcwd() + '/' + directory + '/'\n",
    "\n",
    "for file in csv_files:\n",
    "    df[file] = pd.read_csv(path + file)\n",
    "\n",
    "df['Country full.csv'].head()"
   ]
  },
  {
   "cell_type": "code",
   "execution_count": 71,
   "id": "c951b5f9",
   "metadata": {
    "ExecuteTime": {
     "end_time": "2024-01-20T16:58:18.009687Z",
     "start_time": "2024-01-20T16:58:18.005347Z"
    }
   },
   "outputs": [
    {
     "data": {
      "text/plain": [
       "'/Users/kingori/Documents/GitHub/Load_PostgresDatabase_using_python/datasets/'"
      ]
     },
     "execution_count": 71,
     "metadata": {},
     "output_type": "execute_result"
    }
   ],
   "source": [
    "os.getcwd()+'/'+directory+'/'\n",
    "\n",
    "# '/Users/kingori/Documents/GitHub/Load_PostgresDatabase_using_python/Country full.csv'\n"
   ]
  },
  {
   "cell_type": "code",
   "execution_count": null,
   "id": "f2d10ed8",
   "metadata": {},
   "outputs": [],
   "source": []
  }
 ],
 "metadata": {
  "kernelspec": {
   "display_name": "Python 3 (ipykernel)",
   "language": "python",
   "name": "python3"
  },
  "language_info": {
   "codemirror_mode": {
    "name": "ipython",
    "version": 3
   },
   "file_extension": ".py",
   "mimetype": "text/x-python",
   "name": "python",
   "nbconvert_exporter": "python",
   "pygments_lexer": "ipython3",
   "version": "3.11.5"
  }
 },
 "nbformat": 4,
 "nbformat_minor": 5
}
